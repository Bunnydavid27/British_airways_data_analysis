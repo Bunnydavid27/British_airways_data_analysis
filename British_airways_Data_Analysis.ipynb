{
 "cells": [
  {
   "cell_type": "code",
   "execution_count": 67,
   "id": "e097c59f",
   "metadata": {},
   "outputs": [],
   "source": [
    "import pandas as pd\n",
    "import neattext.functions as nfx\n",
    "import matplotlib.pyplot as plt\n",
    "import re\n",
    "from sklearn.pipeline import Pipeline\n",
    "from nltk.tokenize import RegexpTokenizer #Tokenizer that is used for custom tokenizer which we require now.\n",
    "from sklearn.feature_extraction.text import CountVectorizer\n",
    "from sklearn.feature_extraction.text import TfidfVectorizer#Term Frequency-Inverse Document Frequency dependents on our dataset tokens\n",
    "from sklearn.cluster import KMeans\n",
    "from sklearn.model_selection import train_test_split\n",
    "from sklearn import metrics\n",
    "import numpy as np\n",
    "from sklearn.datasets import make_blobs\n",
    "import seaborn as sns\n",
    "from wordcloud import WordCloud"
   ]
  },
  {
   "cell_type": "markdown",
   "id": "97b706d4",
   "metadata": {},
   "source": [
    "# Data Cleaning"
   ]
  },
  {
   "cell_type": "code",
   "execution_count": 2,
   "id": "3723e67d",
   "metadata": {},
   "outputs": [
    {
     "data": {
      "text/html": [
       "<div>\n",
       "<style scoped>\n",
       "    .dataframe tbody tr th:only-of-type {\n",
       "        vertical-align: middle;\n",
       "    }\n",
       "\n",
       "    .dataframe tbody tr th {\n",
       "        vertical-align: top;\n",
       "    }\n",
       "\n",
       "    .dataframe thead th {\n",
       "        text-align: right;\n",
       "    }\n",
       "</style>\n",
       "<table border=\"1\" class=\"dataframe\">\n",
       "  <thead>\n",
       "    <tr style=\"text-align: right;\">\n",
       "      <th></th>\n",
       "      <th>Unnamed: 0</th>\n",
       "      <th>reviews</th>\n",
       "    </tr>\n",
       "  </thead>\n",
       "  <tbody>\n",
       "    <tr>\n",
       "      <th>0</th>\n",
       "      <td>0</td>\n",
       "      <td>✅ Trip Verified |  I have never seen such disr...</td>\n",
       "    </tr>\n",
       "    <tr>\n",
       "      <th>1</th>\n",
       "      <td>1</td>\n",
       "      <td>✅ Trip Verified |  Paid for a 14 hour long fli...</td>\n",
       "    </tr>\n",
       "    <tr>\n",
       "      <th>2</th>\n",
       "      <td>2</td>\n",
       "      <td>✅ Trip Verified |  Very inconsiderate PA annou...</td>\n",
       "    </tr>\n",
       "    <tr>\n",
       "      <th>3</th>\n",
       "      <td>3</td>\n",
       "      <td>✅ Trip Verified |  Absolutely terrible, lost m...</td>\n",
       "    </tr>\n",
       "    <tr>\n",
       "      <th>4</th>\n",
       "      <td>4</td>\n",
       "      <td>✅ Trip Verified |  We booked premium economy r...</td>\n",
       "    </tr>\n",
       "    <tr>\n",
       "      <th>...</th>\n",
       "      <td>...</td>\n",
       "      <td>...</td>\n",
       "    </tr>\n",
       "    <tr>\n",
       "      <th>3495</th>\n",
       "      <td>3495</td>\n",
       "      <td>JFK to LHR - Despite the image the BA TV show ...</td>\n",
       "    </tr>\n",
       "    <tr>\n",
       "      <th>3496</th>\n",
       "      <td>3496</td>\n",
       "      <td>Rome to London Gatwick. Delayed take-off from ...</td>\n",
       "    </tr>\n",
       "    <tr>\n",
       "      <th>3497</th>\n",
       "      <td>3497</td>\n",
       "      <td>LHR-Hannover Germany. You really wonder someti...</td>\n",
       "    </tr>\n",
       "    <tr>\n",
       "      <th>3498</th>\n",
       "      <td>3498</td>\n",
       "      <td>LGW to Alicante out on 8th September early fli...</td>\n",
       "    </tr>\n",
       "    <tr>\n",
       "      <th>3499</th>\n",
       "      <td>3499</td>\n",
       "      <td>2 recent flights LHR to SFO (12 hrs) - 7th Sep...</td>\n",
       "    </tr>\n",
       "  </tbody>\n",
       "</table>\n",
       "<p>3500 rows × 2 columns</p>\n",
       "</div>"
      ],
      "text/plain": [
       "      Unnamed: 0                                            reviews\n",
       "0              0  ✅ Trip Verified |  I have never seen such disr...\n",
       "1              1  ✅ Trip Verified |  Paid for a 14 hour long fli...\n",
       "2              2  ✅ Trip Verified |  Very inconsiderate PA annou...\n",
       "3              3  ✅ Trip Verified |  Absolutely terrible, lost m...\n",
       "4              4  ✅ Trip Verified |  We booked premium economy r...\n",
       "...          ...                                                ...\n",
       "3495        3495  JFK to LHR - Despite the image the BA TV show ...\n",
       "3496        3496  Rome to London Gatwick. Delayed take-off from ...\n",
       "3497        3497  LHR-Hannover Germany. You really wonder someti...\n",
       "3498        3498  LGW to Alicante out on 8th September early fli...\n",
       "3499        3499  2 recent flights LHR to SFO (12 hrs) - 7th Sep...\n",
       "\n",
       "[3500 rows x 2 columns]"
      ]
     },
     "execution_count": 2,
     "metadata": {},
     "output_type": "execute_result"
    }
   ],
   "source": [
    "df = pd.read_csv('data/british_airways_reviews.csv')\n",
    "df"
   ]
  },
  {
   "cell_type": "code",
   "execution_count": 3,
   "id": "9e90acda",
   "metadata": {},
   "outputs": [
    {
     "data": {
      "text/html": [
       "<div>\n",
       "<style scoped>\n",
       "    .dataframe tbody tr th:only-of-type {\n",
       "        vertical-align: middle;\n",
       "    }\n",
       "\n",
       "    .dataframe tbody tr th {\n",
       "        vertical-align: top;\n",
       "    }\n",
       "\n",
       "    .dataframe thead th {\n",
       "        text-align: right;\n",
       "    }\n",
       "</style>\n",
       "<table border=\"1\" class=\"dataframe\">\n",
       "  <thead>\n",
       "    <tr style=\"text-align: right;\">\n",
       "      <th></th>\n",
       "      <th>reviews</th>\n",
       "    </tr>\n",
       "  </thead>\n",
       "  <tbody>\n",
       "    <tr>\n",
       "      <th>0</th>\n",
       "      <td>✅ Trip Verified |  I have never seen such disr...</td>\n",
       "    </tr>\n",
       "    <tr>\n",
       "      <th>1</th>\n",
       "      <td>✅ Trip Verified |  Paid for a 14 hour long fli...</td>\n",
       "    </tr>\n",
       "    <tr>\n",
       "      <th>2</th>\n",
       "      <td>✅ Trip Verified |  Very inconsiderate PA annou...</td>\n",
       "    </tr>\n",
       "    <tr>\n",
       "      <th>3</th>\n",
       "      <td>✅ Trip Verified |  Absolutely terrible, lost m...</td>\n",
       "    </tr>\n",
       "    <tr>\n",
       "      <th>4</th>\n",
       "      <td>✅ Trip Verified |  We booked premium economy r...</td>\n",
       "    </tr>\n",
       "    <tr>\n",
       "      <th>...</th>\n",
       "      <td>...</td>\n",
       "    </tr>\n",
       "    <tr>\n",
       "      <th>3495</th>\n",
       "      <td>JFK to LHR - Despite the image the BA TV show ...</td>\n",
       "    </tr>\n",
       "    <tr>\n",
       "      <th>3496</th>\n",
       "      <td>Rome to London Gatwick. Delayed take-off from ...</td>\n",
       "    </tr>\n",
       "    <tr>\n",
       "      <th>3497</th>\n",
       "      <td>LHR-Hannover Germany. You really wonder someti...</td>\n",
       "    </tr>\n",
       "    <tr>\n",
       "      <th>3498</th>\n",
       "      <td>LGW to Alicante out on 8th September early fli...</td>\n",
       "    </tr>\n",
       "    <tr>\n",
       "      <th>3499</th>\n",
       "      <td>2 recent flights LHR to SFO (12 hrs) - 7th Sep...</td>\n",
       "    </tr>\n",
       "  </tbody>\n",
       "</table>\n",
       "<p>3500 rows × 1 columns</p>\n",
       "</div>"
      ],
      "text/plain": [
       "                                                reviews\n",
       "0     ✅ Trip Verified |  I have never seen such disr...\n",
       "1     ✅ Trip Verified |  Paid for a 14 hour long fli...\n",
       "2     ✅ Trip Verified |  Very inconsiderate PA annou...\n",
       "3     ✅ Trip Verified |  Absolutely terrible, lost m...\n",
       "4     ✅ Trip Verified |  We booked premium economy r...\n",
       "...                                                 ...\n",
       "3495  JFK to LHR - Despite the image the BA TV show ...\n",
       "3496  Rome to London Gatwick. Delayed take-off from ...\n",
       "3497  LHR-Hannover Germany. You really wonder someti...\n",
       "3498  LGW to Alicante out on 8th September early fli...\n",
       "3499  2 recent flights LHR to SFO (12 hrs) - 7th Sep...\n",
       "\n",
       "[3500 rows x 1 columns]"
      ]
     },
     "execution_count": 3,
     "metadata": {},
     "output_type": "execute_result"
    }
   ],
   "source": [
    "df = df.drop('Unnamed: 0', axis =1)\n",
    "df"
   ]
  },
  {
   "cell_type": "code",
   "execution_count": 4,
   "id": "52b96af6",
   "metadata": {},
   "outputs": [
    {
     "data": {
      "text/plain": [
       "'✅ Trip Verified |  I have never seen such disrespect to a customer. It was the 3rd time in 2 months that I was unable to do a check-in because of their website not working properly. Lost 2 hours on the phone with their customer service team. At the airport I was asked to check in my hand luggage because they had no more space in the cabin. I could not recline my seat and the staff was rude and unhelpful to me. The wifi was also not working. I made multiple complaints and no one ever even contacted me. Never using them again!'"
      ]
     },
     "execution_count": 4,
     "metadata": {},
     "output_type": "execute_result"
    }
   ],
   "source": [
    "df['reviews'][0]"
   ]
  },
  {
   "cell_type": "code",
   "execution_count": 5,
   "id": "38beaa9e",
   "metadata": {},
   "outputs": [],
   "source": [
    "#Cleaning dataset which contains unnecessary symbols and words that doesnot manke any sense in the review but creates a disturbance between words and model will be faulty\n",
    "def preprocess(text):\n",
    "    review = text.replace('✅ Trip Verified |  ', '')\n",
    "    review = review.replace('✅ Verified Review |', '')\n",
    "    review = review.replace('Trip Verified', '')\n",
    "    review = review.replace('Not Verified', '')\n",
    "    review = re.sub(r'[^\\w\\s\\']',' ', review)\n",
    "    review = re.sub(\"[ \\n]+\", \" \", review)\n",
    "    review = review.replace(r'\\b(\\w{1,3})\\b', '')\n",
    "    review = nfx.remove_multiple_spaces(review)\n",
    "    review = nfx.remove_puncts(review)\n",
    "    review = nfx.remove_punctuations(review)\n",
    "    review = nfx.remove_userhandles(review)\n",
    "    review = nfx.remove_special_characters(review)\n",
    "    review = nfx.remove_stopwords(review)\n",
    "    return review"
   ]
  },
  {
   "cell_type": "code",
   "execution_count": 6,
   "id": "3bca4d6b",
   "metadata": {},
   "outputs": [
    {
     "data": {
      "text/html": [
       "<div>\n",
       "<style scoped>\n",
       "    .dataframe tbody tr th:only-of-type {\n",
       "        vertical-align: middle;\n",
       "    }\n",
       "\n",
       "    .dataframe tbody tr th {\n",
       "        vertical-align: top;\n",
       "    }\n",
       "\n",
       "    .dataframe thead th {\n",
       "        text-align: right;\n",
       "    }\n",
       "</style>\n",
       "<table border=\"1\" class=\"dataframe\">\n",
       "  <thead>\n",
       "    <tr style=\"text-align: right;\">\n",
       "      <th></th>\n",
       "      <th>reviews</th>\n",
       "      <th>Reviews</th>\n",
       "    </tr>\n",
       "  </thead>\n",
       "  <tbody>\n",
       "    <tr>\n",
       "      <th>0</th>\n",
       "      <td>✅ Trip Verified |  I have never seen such disr...</td>\n",
       "      <td>seen disrespect customer 3rd time 2 months una...</td>\n",
       "    </tr>\n",
       "    <tr>\n",
       "      <th>1</th>\n",
       "      <td>✅ Trip Verified |  Paid for a 14 hour long fli...</td>\n",
       "      <td>Paid 14 hour long flight ticket includes use f...</td>\n",
       "    </tr>\n",
       "    <tr>\n",
       "      <th>2</th>\n",
       "      <td>✅ Trip Verified |  Very inconsiderate PA annou...</td>\n",
       "      <td>inconsiderate PA announcements purser appearin...</td>\n",
       "    </tr>\n",
       "    <tr>\n",
       "      <th>3</th>\n",
       "      <td>✅ Trip Verified |  Absolutely terrible, lost m...</td>\n",
       "      <td>Absolutely terrible lost luggage flights deliv...</td>\n",
       "    </tr>\n",
       "    <tr>\n",
       "      <th>4</th>\n",
       "      <td>✅ Trip Verified |  We booked premium economy r...</td>\n",
       "      <td>booked premium economy round trip Phoenix Zuri...</td>\n",
       "    </tr>\n",
       "    <tr>\n",
       "      <th>...</th>\n",
       "      <td>...</td>\n",
       "      <td>...</td>\n",
       "    </tr>\n",
       "    <tr>\n",
       "      <th>3495</th>\n",
       "      <td>JFK to LHR - Despite the image the BA TV show ...</td>\n",
       "      <td>JFK LHR Despite image BA TV conveyed Galleries...</td>\n",
       "    </tr>\n",
       "    <tr>\n",
       "      <th>3496</th>\n",
       "      <td>Rome to London Gatwick. Delayed take-off from ...</td>\n",
       "      <td>Rome London Gatwick Delayed Rome largely plane...</td>\n",
       "    </tr>\n",
       "    <tr>\n",
       "      <th>3497</th>\n",
       "      <td>LHR-Hannover Germany. You really wonder someti...</td>\n",
       "      <td>LHR Hannover Germany wonder BA paid 940 return...</td>\n",
       "    </tr>\n",
       "    <tr>\n",
       "      <th>3498</th>\n",
       "      <td>LGW to Alicante out on 8th September early fli...</td>\n",
       "      <td>LGW Alicante 8th September early flight disapp...</td>\n",
       "    </tr>\n",
       "    <tr>\n",
       "      <th>3499</th>\n",
       "      <td>2 recent flights LHR to SFO (12 hrs) - 7th Sep...</td>\n",
       "      <td>2 recent flights LHR SFO 12 hrs 7th Sept San D...</td>\n",
       "    </tr>\n",
       "  </tbody>\n",
       "</table>\n",
       "<p>3500 rows × 2 columns</p>\n",
       "</div>"
      ],
      "text/plain": [
       "                                                reviews  \\\n",
       "0     ✅ Trip Verified |  I have never seen such disr...   \n",
       "1     ✅ Trip Verified |  Paid for a 14 hour long fli...   \n",
       "2     ✅ Trip Verified |  Very inconsiderate PA annou...   \n",
       "3     ✅ Trip Verified |  Absolutely terrible, lost m...   \n",
       "4     ✅ Trip Verified |  We booked premium economy r...   \n",
       "...                                                 ...   \n",
       "3495  JFK to LHR - Despite the image the BA TV show ...   \n",
       "3496  Rome to London Gatwick. Delayed take-off from ...   \n",
       "3497  LHR-Hannover Germany. You really wonder someti...   \n",
       "3498  LGW to Alicante out on 8th September early fli...   \n",
       "3499  2 recent flights LHR to SFO (12 hrs) - 7th Sep...   \n",
       "\n",
       "                                                Reviews  \n",
       "0     seen disrespect customer 3rd time 2 months una...  \n",
       "1     Paid 14 hour long flight ticket includes use f...  \n",
       "2     inconsiderate PA announcements purser appearin...  \n",
       "3     Absolutely terrible lost luggage flights deliv...  \n",
       "4     booked premium economy round trip Phoenix Zuri...  \n",
       "...                                                 ...  \n",
       "3495  JFK LHR Despite image BA TV conveyed Galleries...  \n",
       "3496  Rome London Gatwick Delayed Rome largely plane...  \n",
       "3497  LHR Hannover Germany wonder BA paid 940 return...  \n",
       "3498  LGW Alicante 8th September early flight disapp...  \n",
       "3499  2 recent flights LHR SFO 12 hrs 7th Sept San D...  \n",
       "\n",
       "[3500 rows x 2 columns]"
      ]
     },
     "execution_count": 6,
     "metadata": {},
     "output_type": "execute_result"
    }
   ],
   "source": [
    "df['Reviews']= df['reviews'].apply(preprocess)\n",
    "df"
   ]
  },
  {
   "cell_type": "markdown",
   "id": "91319f06",
   "metadata": {},
   "source": [
    "# Data Transformation"
   ]
  },
  {
   "cell_type": "code",
   "execution_count": 7,
   "id": "d0d71565",
   "metadata": {},
   "outputs": [
    {
     "data": {
      "text/plain": [
       "flight         6120\n",
       "BA             4382\n",
       "service        2546\n",
       "London         2165\n",
       "British        2158\n",
       "seat           2122\n",
       "Airways        2101\n",
       "time           1973\n",
       "crew           1856\n",
       "seats          1852\n",
       "good           1825\n",
       "food           1778\n",
       "cabin          1585\n",
       "Heathrow       1484\n",
       "class          1433\n",
       "staff          1335\n",
       "business       1139\n",
       "flights        1101\n",
       "hours          1042\n",
       "check          1033\n",
       "economy        1016\n",
       "airline         997\n",
       "passengers      981\n",
       "plane           918\n",
       "return          907\n",
       "LHR             884\n",
       "experience      880\n",
       "fly             830\n",
       "lounge          794\n",
       "2               790\n",
       "meal            781\n",
       "hour            778\n",
       "Club            774\n",
       "aircraft        760\n",
       "told            754\n",
       "like            721\n",
       "boarding        709\n",
       "long            702\n",
       "new             700\n",
       "3               681\n",
       "minutes         652\n",
       "better          643\n",
       "drinks          625\n",
       "comfortable     616\n",
       "customer        614\n",
       "served          598\n",
       "got             598\n",
       "offered         589\n",
       "way             582\n",
       "airport         574\n",
       "dtype: int64"
      ]
     },
     "execution_count": 7,
     "metadata": {},
     "output_type": "execute_result"
    }
   ],
   "source": [
    "Most_freq_words = pd.DataFrame(' '.join(df['Reviews']).split()).value_counts()[:50]\n",
    "Most_freq_words"
   ]
  },
  {
   "cell_type": "code",
   "execution_count": 8,
   "id": "f9e0b78a",
   "metadata": {},
   "outputs": [
    {
     "data": {
      "text/plain": [
       "array([6120, 4382, 2546, 2165, 2158, 2122, 2101, 1973, 1856, 1852, 1825,\n",
       "       1778, 1585, 1484, 1433, 1335, 1139, 1101, 1042, 1033, 1016,  997,\n",
       "        981,  918,  907,  884,  880,  830,  794,  790,  781,  778,  774,\n",
       "        760,  754,  721,  709,  702,  700,  681,  652,  643,  625,  616,\n",
       "        614,  598,  598,  589,  582,  574], dtype=int64)"
      ]
     },
     "execution_count": 8,
     "metadata": {},
     "output_type": "execute_result"
    }
   ],
   "source": [
    "values = Most_freq_words.values\n",
    "values"
   ]
  },
  {
   "cell_type": "code",
   "execution_count": 9,
   "id": "ca4e0e96",
   "metadata": {},
   "outputs": [
    {
     "data": {
      "text/plain": [
       "4382"
      ]
     },
     "execution_count": 9,
     "metadata": {},
     "output_type": "execute_result"
    }
   ],
   "source": [
    "Most_freq_words[1]"
   ]
  },
  {
   "cell_type": "code",
   "execution_count": 10,
   "id": "42004d7d",
   "metadata": {},
   "outputs": [],
   "source": [
    "keys = []\n",
    "for i in Most_freq_words.index:\n",
    "    keys.append(i[0])"
   ]
  },
  {
   "cell_type": "code",
   "execution_count": 11,
   "id": "1c3bad33",
   "metadata": {},
   "outputs": [
    {
     "data": {
      "text/plain": [
       "['flight',\n",
       " 'BA',\n",
       " 'service',\n",
       " 'London',\n",
       " 'British',\n",
       " 'seat',\n",
       " 'Airways',\n",
       " 'time',\n",
       " 'crew',\n",
       " 'seats',\n",
       " 'good',\n",
       " 'food',\n",
       " 'cabin',\n",
       " 'Heathrow',\n",
       " 'class',\n",
       " 'staff',\n",
       " 'business',\n",
       " 'flights',\n",
       " 'hours',\n",
       " 'check',\n",
       " 'economy',\n",
       " 'airline',\n",
       " 'passengers',\n",
       " 'plane',\n",
       " 'return',\n",
       " 'LHR',\n",
       " 'experience',\n",
       " 'fly',\n",
       " 'lounge',\n",
       " '2',\n",
       " 'meal',\n",
       " 'hour',\n",
       " 'Club',\n",
       " 'aircraft',\n",
       " 'told',\n",
       " 'like',\n",
       " 'boarding',\n",
       " 'long',\n",
       " 'new',\n",
       " '3',\n",
       " 'minutes',\n",
       " 'better',\n",
       " 'drinks',\n",
       " 'comfortable',\n",
       " 'customer',\n",
       " 'served',\n",
       " 'got',\n",
       " 'offered',\n",
       " 'way',\n",
       " 'airport']"
      ]
     },
     "execution_count": 11,
     "metadata": {},
     "output_type": "execute_result"
    }
   ],
   "source": [
    "keys"
   ]
  },
  {
   "cell_type": "code",
   "execution_count": 12,
   "id": "f752c480",
   "metadata": {
    "scrolled": false
   },
   "outputs": [
    {
     "data": {
      "image/png": "[encoded data removed]",
      "text/plain": [
       "<Figure size 640x480 with 1 Axes>"
      ]
     },
     "metadata": {},
     "output_type": "display_data"
    },
    {
     "data": {
      "text/plain": [
       "<Figure size 12000x5000 with 0 Axes>"
      ]
     },
     "metadata": {},
     "output_type": "display_data"
    }
   ],
   "source": [
    "plt.bar(keys, values, color='red')\n",
    "plt.xticks(rotation=90)\n",
    "plt.figure(figsize=(120, 50))\n",
    "plt.show()"
   ]
  },
  {
   "cell_type": "markdown",
   "id": "d8cba791",
   "metadata": {},
   "source": [
    "# Clustering Analysis"
   ]
  },
  {
   "cell_type": "code",
   "execution_count": 13,
   "id": "b2b994c0",
   "metadata": {},
   "outputs": [
    {
     "data": {
      "text/plain": [
       "2"
      ]
     },
     "execution_count": 13,
     "metadata": {},
     "output_type": "execute_result"
    }
   ],
   "source": [
    "categories = ['negative', 'positive']\n",
    "num_cat = len(categories)\n",
    "num_cat"
   ]
  },
  {
   "cell_type": "code",
   "execution_count": 14,
   "id": "540c0804",
   "metadata": {},
   "outputs": [],
   "source": [
    "tokenizer = RegexpTokenizer(r'\\b\\w+\\b')"
   ]
  },
  {
   "cell_type": "code",
   "execution_count": 15,
   "id": "2d11a94f",
   "metadata": {},
   "outputs": [],
   "source": [
    "vectorizer1 = CountVectorizer(lowercase=True, stop_words='english', tokenizer=tokenizer.tokenize)\n",
    "vectorizer2 = TfidfVectorizer(lowercase=True, stop_words='english', tokenizer=tokenizer.tokenize)"
   ]
  },
  {
   "cell_type": "code",
   "execution_count": 16,
   "id": "328ae545",
   "metadata": {},
   "outputs": [],
   "source": [
    "kmeans1 = KMeans(n_clusters= 2)#2 beacause there are positive reviews and negative reviews\n",
    "kmeans2 = KMeans(n_clusters= 2)#2 beacause there are positive reviews and negative reviews"
   ]
  },
  {
   "cell_type": "code",
   "execution_count": 17,
   "id": "08c5b2ac",
   "metadata": {},
   "outputs": [],
   "source": [
    "pipeline1 = Pipeline([\n",
    "    ('Count_Vectorizer', vectorizer1),\n",
    "    ('kmeans', kmeans1)\n",
    "])"
   ]
  },
  {
   "cell_type": "code",
   "execution_count": 18,
   "id": "5e226ca8",
   "metadata": {},
   "outputs": [],
   "source": [
    "pipeline2 = Pipeline([\n",
    "    ('Tf-idf', vectorizer2),\n",
    "    ('kmeans', kmeans2)\n",
    "])"
   ]
  },
  {
   "cell_type": "code",
   "execution_count": 19,
   "id": "548f24d5",
   "metadata": {},
   "outputs": [
    {
     "data": {
      "text/plain": [
       "0       seen disrespect customer 3rd time 2 months una...\n",
       "1       Paid 14 hour long flight ticket includes use f...\n",
       "2       inconsiderate PA announcements purser appearin...\n",
       "3       Absolutely terrible lost luggage flights deliv...\n",
       "4       booked premium economy round trip Phoenix Zuri...\n",
       "                              ...                        \n",
       "3495    JFK LHR Despite image BA TV conveyed Galleries...\n",
       "3496    Rome London Gatwick Delayed Rome largely plane...\n",
       "3497    LHR Hannover Germany wonder BA paid 940 return...\n",
       "3498    LGW Alicante 8th September early flight disapp...\n",
       "3499    2 recent flights LHR SFO 12 hrs 7th Sept San D...\n",
       "Name: Reviews, Length: 3500, dtype: object"
      ]
     },
     "execution_count": 19,
     "metadata": {},
     "output_type": "execute_result"
    }
   ],
   "source": [
    "reviews = df['Reviews']\n",
    "reviews"
   ]
  },
  {
   "cell_type": "code",
   "execution_count": 20,
   "id": "f2e1dae3",
   "metadata": {},
   "outputs": [
    {
     "data": {
      "text/plain": [
       "array([[ 6.5811084 ,  8.65354952],\n",
       "       [12.14002582, 12.16341106],\n",
       "       [14.17228709, 14.18896879],\n",
       "       ...,\n",
       "       [10.65497264, 10.62060553],\n",
       "       [11.96369326, 11.42131802],\n",
       "       [13.35813345, 13.8225445 ]])"
      ]
     },
     "execution_count": 20,
     "metadata": {},
     "output_type": "execute_result"
    }
   ],
   "source": [
    "cvt = pipeline1.fit_transform(reviews)\n",
    "cvt"
   ]
  },
  {
   "cell_type": "code",
   "execution_count": 21,
   "id": "51701177",
   "metadata": {},
   "outputs": [
    {
     "data": {
      "text/plain": [
       "array([[0.97262979, 0.99616687],\n",
       "       [0.98590549, 1.00135466],\n",
       "       [0.98823626, 0.99469193],\n",
       "       ...,\n",
       "       [0.98763939, 0.97996773],\n",
       "       [0.9696537 , 0.96837707],\n",
       "       [0.99379088, 0.98387519]])"
      ]
     },
     "execution_count": 21,
     "metadata": {},
     "output_type": "execute_result"
    }
   ],
   "source": [
    "tfidf = pipeline2.fit_transform(reviews)\n",
    "tfidf"
   ]
  },
  {
   "cell_type": "code",
   "execution_count": 22,
   "id": "f704bf2a",
   "metadata": {},
   "outputs": [
    {
     "data": {
      "text/plain": [
       "array([0, 0, 0, ..., 1, 1, 0])"
      ]
     },
     "execution_count": 22,
     "metadata": {},
     "output_type": "execute_result"
    }
   ],
   "source": [
    "cntvct_lables = kmeans1.labels_\n",
    "cntvct_lables"
   ]
  },
  {
   "cell_type": "code",
   "execution_count": 23,
   "id": "38eee57b",
   "metadata": {},
   "outputs": [
    {
     "data": {
      "text/plain": [
       "array([0, 0, 0, ..., 1, 1, 1])"
      ]
     },
     "execution_count": 23,
     "metadata": {},
     "output_type": "execute_result"
    }
   ],
   "source": [
    "tfidfcvt_labels = kmeans2.labels_\n",
    "tfidfcvt_labels"
   ]
  },
  {
   "cell_type": "code",
   "execution_count": 24,
   "id": "a5d099b9",
   "metadata": {},
   "outputs": [
    {
     "data": {
      "text/plain": [
       "array([[0.00252434, 0.01226109, 0.00613054, ..., 0.00036062, 0.00901551,\n",
       "        0.00036062],\n",
       "       [0.00687758, 0.08940853, 0.02475928, ..., 0.        , 0.01788171,\n",
       "        0.        ]])"
      ]
     },
     "execution_count": 24,
     "metadata": {},
     "output_type": "execute_result"
    }
   ],
   "source": [
    "kmeans1.cluster_centers_"
   ]
  },
  {
   "cell_type": "code",
   "execution_count": 25,
   "id": "5685e2f0",
   "metadata": {},
   "outputs": [
    {
     "data": {
      "text/plain": [
       "array([[6.50979046e-04, 4.69427133e-03, 1.14366778e-03, ...,\n",
       "        4.70454952e-05, 2.95280813e-03, 4.70454952e-05],\n",
       "       [3.38432537e-04, 8.97570421e-04, 8.97375612e-04, ...,\n",
       "        0.00000000e+00, 5.60943376e-04, 0.00000000e+00]])"
      ]
     },
     "execution_count": 25,
     "metadata": {},
     "output_type": "execute_result"
    }
   ],
   "source": [
    "kmeans2.cluster_centers_"
   ]
  },
  {
   "cell_type": "code",
   "execution_count": 26,
   "id": "b77e5370",
   "metadata": {},
   "outputs": [
    {
     "data": {
      "image/png": "[encoded data removed]",
      "text/plain": [
       "<Figure size 640x480 with 1 Axes>"
      ]
     },
     "metadata": {},
     "output_type": "display_data"
    }
   ],
   "source": [
    "plt.scatter(kmeans1.cluster_centers_[:,0],kmeans1.cluster_centers_[:,1], color='red')\n",
    "plt.scatter(kmeans2.cluster_centers_[:,0],kmeans2.cluster_centers_[:,1], color='purple')\n",
    "plt.show()"
   ]
  },
  {
   "cell_type": "code",
   "execution_count": 27,
   "id": "782703ba",
   "metadata": {},
   "outputs": [],
   "source": [
    "reviews_df = pd.DataFrame(reviews)"
   ]
  },
  {
   "cell_type": "code",
   "execution_count": 28,
   "id": "7d2c05c6",
   "metadata": {},
   "outputs": [
    {
     "data": {
      "text/html": [
       "<div>\n",
       "<style scoped>\n",
       "    .dataframe tbody tr th:only-of-type {\n",
       "        vertical-align: middle;\n",
       "    }\n",
       "\n",
       "    .dataframe tbody tr th {\n",
       "        vertical-align: top;\n",
       "    }\n",
       "\n",
       "    .dataframe thead th {\n",
       "        text-align: right;\n",
       "    }\n",
       "</style>\n",
       "<table border=\"1\" class=\"dataframe\">\n",
       "  <thead>\n",
       "    <tr style=\"text-align: right;\">\n",
       "      <th></th>\n",
       "      <th>Reviews</th>\n",
       "    </tr>\n",
       "  </thead>\n",
       "  <tbody>\n",
       "    <tr>\n",
       "      <th>0</th>\n",
       "      <td>seen disrespect customer 3rd time 2 months una...</td>\n",
       "    </tr>\n",
       "    <tr>\n",
       "      <th>1</th>\n",
       "      <td>Paid 14 hour long flight ticket includes use f...</td>\n",
       "    </tr>\n",
       "    <tr>\n",
       "      <th>2</th>\n",
       "      <td>inconsiderate PA announcements purser appearin...</td>\n",
       "    </tr>\n",
       "    <tr>\n",
       "      <th>3</th>\n",
       "      <td>Absolutely terrible lost luggage flights deliv...</td>\n",
       "    </tr>\n",
       "    <tr>\n",
       "      <th>4</th>\n",
       "      <td>booked premium economy round trip Phoenix Zuri...</td>\n",
       "    </tr>\n",
       "    <tr>\n",
       "      <th>...</th>\n",
       "      <td>...</td>\n",
       "    </tr>\n",
       "    <tr>\n",
       "      <th>3495</th>\n",
       "      <td>JFK LHR Despite image BA TV conveyed Galleries...</td>\n",
       "    </tr>\n",
       "    <tr>\n",
       "      <th>3496</th>\n",
       "      <td>Rome London Gatwick Delayed Rome largely plane...</td>\n",
       "    </tr>\n",
       "    <tr>\n",
       "      <th>3497</th>\n",
       "      <td>LHR Hannover Germany wonder BA paid 940 return...</td>\n",
       "    </tr>\n",
       "    <tr>\n",
       "      <th>3498</th>\n",
       "      <td>LGW Alicante 8th September early flight disapp...</td>\n",
       "    </tr>\n",
       "    <tr>\n",
       "      <th>3499</th>\n",
       "      <td>2 recent flights LHR SFO 12 hrs 7th Sept San D...</td>\n",
       "    </tr>\n",
       "  </tbody>\n",
       "</table>\n",
       "<p>3500 rows × 1 columns</p>\n",
       "</div>"
      ],
      "text/plain": [
       "                                                Reviews\n",
       "0     seen disrespect customer 3rd time 2 months una...\n",
       "1     Paid 14 hour long flight ticket includes use f...\n",
       "2     inconsiderate PA announcements purser appearin...\n",
       "3     Absolutely terrible lost luggage flights deliv...\n",
       "4     booked premium economy round trip Phoenix Zuri...\n",
       "...                                                 ...\n",
       "3495  JFK LHR Despite image BA TV conveyed Galleries...\n",
       "3496  Rome London Gatwick Delayed Rome largely plane...\n",
       "3497  LHR Hannover Germany wonder BA paid 940 return...\n",
       "3498  LGW Alicante 8th September early flight disapp...\n",
       "3499  2 recent flights LHR SFO 12 hrs 7th Sept San D...\n",
       "\n",
       "[3500 rows x 1 columns]"
      ]
     },
     "execution_count": 28,
     "metadata": {},
     "output_type": "execute_result"
    }
   ],
   "source": [
    "reviews_df"
   ]
  },
  {
   "cell_type": "code",
   "execution_count": 29,
   "id": "64cc9459",
   "metadata": {},
   "outputs": [],
   "source": [
    "reviews_df['Count_Vectorizer_labels'] = kmeans1.labels_\n",
    "reviews_df['TFIDF_Vectorizer_labels'] = kmeans2.labels_"
   ]
  },
  {
   "cell_type": "code",
   "execution_count": 30,
   "id": "7a1d2813",
   "metadata": {},
   "outputs": [
    {
     "data": {
      "text/html": [
       "<div>\n",
       "<style scoped>\n",
       "    .dataframe tbody tr th:only-of-type {\n",
       "        vertical-align: middle;\n",
       "    }\n",
       "\n",
       "    .dataframe tbody tr th {\n",
       "        vertical-align: top;\n",
       "    }\n",
       "\n",
       "    .dataframe thead th {\n",
       "        text-align: right;\n",
       "    }\n",
       "</style>\n",
       "<table border=\"1\" class=\"dataframe\">\n",
       "  <thead>\n",
       "    <tr style=\"text-align: right;\">\n",
       "      <th></th>\n",
       "      <th>Reviews</th>\n",
       "      <th>Count_Vectorizer_labels</th>\n",
       "      <th>TFIDF_Vectorizer_labels</th>\n",
       "    </tr>\n",
       "  </thead>\n",
       "  <tbody>\n",
       "    <tr>\n",
       "      <th>0</th>\n",
       "      <td>seen disrespect customer 3rd time 2 months una...</td>\n",
       "      <td>0</td>\n",
       "      <td>0</td>\n",
       "    </tr>\n",
       "    <tr>\n",
       "      <th>1</th>\n",
       "      <td>Paid 14 hour long flight ticket includes use f...</td>\n",
       "      <td>0</td>\n",
       "      <td>0</td>\n",
       "    </tr>\n",
       "    <tr>\n",
       "      <th>2</th>\n",
       "      <td>inconsiderate PA announcements purser appearin...</td>\n",
       "      <td>0</td>\n",
       "      <td>0</td>\n",
       "    </tr>\n",
       "    <tr>\n",
       "      <th>3</th>\n",
       "      <td>Absolutely terrible lost luggage flights deliv...</td>\n",
       "      <td>0</td>\n",
       "      <td>0</td>\n",
       "    </tr>\n",
       "    <tr>\n",
       "      <th>4</th>\n",
       "      <td>booked premium economy round trip Phoenix Zuri...</td>\n",
       "      <td>1</td>\n",
       "      <td>0</td>\n",
       "    </tr>\n",
       "    <tr>\n",
       "      <th>...</th>\n",
       "      <td>...</td>\n",
       "      <td>...</td>\n",
       "      <td>...</td>\n",
       "    </tr>\n",
       "    <tr>\n",
       "      <th>3495</th>\n",
       "      <td>JFK LHR Despite image BA TV conveyed Galleries...</td>\n",
       "      <td>1</td>\n",
       "      <td>1</td>\n",
       "    </tr>\n",
       "    <tr>\n",
       "      <th>3496</th>\n",
       "      <td>Rome London Gatwick Delayed Rome largely plane...</td>\n",
       "      <td>0</td>\n",
       "      <td>1</td>\n",
       "    </tr>\n",
       "    <tr>\n",
       "      <th>3497</th>\n",
       "      <td>LHR Hannover Germany wonder BA paid 940 return...</td>\n",
       "      <td>1</td>\n",
       "      <td>1</td>\n",
       "    </tr>\n",
       "    <tr>\n",
       "      <th>3498</th>\n",
       "      <td>LGW Alicante 8th September early flight disapp...</td>\n",
       "      <td>1</td>\n",
       "      <td>1</td>\n",
       "    </tr>\n",
       "    <tr>\n",
       "      <th>3499</th>\n",
       "      <td>2 recent flights LHR SFO 12 hrs 7th Sept San D...</td>\n",
       "      <td>0</td>\n",
       "      <td>1</td>\n",
       "    </tr>\n",
       "  </tbody>\n",
       "</table>\n",
       "<p>3500 rows × 3 columns</p>\n",
       "</div>"
      ],
      "text/plain": [
       "                                                Reviews  \\\n",
       "0     seen disrespect customer 3rd time 2 months una...   \n",
       "1     Paid 14 hour long flight ticket includes use f...   \n",
       "2     inconsiderate PA announcements purser appearin...   \n",
       "3     Absolutely terrible lost luggage flights deliv...   \n",
       "4     booked premium economy round trip Phoenix Zuri...   \n",
       "...                                                 ...   \n",
       "3495  JFK LHR Despite image BA TV conveyed Galleries...   \n",
       "3496  Rome London Gatwick Delayed Rome largely plane...   \n",
       "3497  LHR Hannover Germany wonder BA paid 940 return...   \n",
       "3498  LGW Alicante 8th September early flight disapp...   \n",
       "3499  2 recent flights LHR SFO 12 hrs 7th Sept San D...   \n",
       "\n",
       "      Count_Vectorizer_labels  TFIDF_Vectorizer_labels  \n",
       "0                           0                        0  \n",
       "1                           0                        0  \n",
       "2                           0                        0  \n",
       "3                           0                        0  \n",
       "4                           1                        0  \n",
       "...                       ...                      ...  \n",
       "3495                        1                        1  \n",
       "3496                        0                        1  \n",
       "3497                        1                        1  \n",
       "3498                        1                        1  \n",
       "3499                        0                        1  \n",
       "\n",
       "[3500 rows x 3 columns]"
      ]
     },
     "execution_count": 30,
     "metadata": {},
     "output_type": "execute_result"
    }
   ],
   "source": [
    "reviews_df"
   ]
  },
  {
   "cell_type": "code",
   "execution_count": 31,
   "id": "293f1630",
   "metadata": {},
   "outputs": [
    {
     "data": {
      "text/plain": [
       "0    2773\n",
       "1     727\n",
       "Name: Count_Vectorizer_labels, dtype: int64"
      ]
     },
     "execution_count": 31,
     "metadata": {},
     "output_type": "execute_result"
    }
   ],
   "source": [
    "reviews_df.Count_Vectorizer_labels.value_counts()"
   ]
  },
  {
   "cell_type": "code",
   "execution_count": 32,
   "id": "b8cac2ae",
   "metadata": {},
   "outputs": [
    {
     "data": {
      "text/plain": [
       "1    2085\n",
       "0    1415\n",
       "Name: TFIDF_Vectorizer_labels, dtype: int64"
      ]
     },
     "execution_count": 32,
     "metadata": {},
     "output_type": "execute_result"
    }
   ],
   "source": [
    "reviews_df.TFIDF_Vectorizer_labels.value_counts()"
   ]
  },
  {
   "cell_type": "code",
   "execution_count": 33,
   "id": "616f9eba",
   "metadata": {},
   "outputs": [
    {
     "data": {
      "text/plain": [
       "array([0, 0, 0, ..., 1, 1, 0])"
      ]
     },
     "execution_count": 33,
     "metadata": {},
     "output_type": "execute_result"
    }
   ],
   "source": [
    "kmeans1.labels_"
   ]
  },
  {
   "cell_type": "code",
   "execution_count": 34,
   "id": "436e45ee",
   "metadata": {},
   "outputs": [
    {
     "data": {
      "text/plain": [
       "array([0, 0, 0, ..., 1, 1, 1])"
      ]
     },
     "execution_count": 34,
     "metadata": {},
     "output_type": "execute_result"
    }
   ],
   "source": [
    "kmeans2.labels_"
   ]
  },
  {
   "cell_type": "markdown",
   "id": "332d3227",
   "metadata": {},
   "source": [
    "# Best Model"
   ]
  },
  {
   "cell_type": "code",
   "execution_count": 35,
   "id": "fd5879cb",
   "metadata": {},
   "outputs": [],
   "source": [
    "X, _ = make_blobs(n_samples=3500, centers=2, random_state=42)"
   ]
  },
  {
   "cell_type": "code",
   "execution_count": 36,
   "id": "3ccbee57",
   "metadata": {},
   "outputs": [
    {
     "data": {
      "text/plain": [
       "array([[-1.29609992,  9.15600304],\n",
       "       [-1.86647486, 10.34343866],\n",
       "       [ 3.65433924,  1.00342596],\n",
       "       ...,\n",
       "       [-2.41113008, 10.31015791],\n",
       "       [-4.17779688, 10.07301466],\n",
       "       [ 3.80792392,  1.33488696]])"
      ]
     },
     "execution_count": 36,
     "metadata": {},
     "output_type": "execute_result"
    }
   ],
   "source": [
    "X"
   ]
  },
  {
   "cell_type": "code",
   "execution_count": 37,
   "id": "4357d9e3",
   "metadata": {},
   "outputs": [
    {
     "data": {
      "text/plain": [
       "222.21009093421807"
      ]
     },
     "execution_count": 37,
     "metadata": {},
     "output_type": "execute_result"
    }
   ],
   "source": [
    "metrics.davies_bouldin_score(X, cntvct_lables)"
   ]
  },
  {
   "cell_type": "code",
   "execution_count": 38,
   "id": "0990f33f",
   "metadata": {},
   "outputs": [
    {
     "data": {
      "text/plain": [
       "37.52789530341253"
      ]
     },
     "execution_count": 38,
     "metadata": {},
     "output_type": "execute_result"
    }
   ],
   "source": [
    "metrics.davies_bouldin_score(X, tfidfcvt_labels)"
   ]
  },
  {
   "cell_type": "markdown",
   "id": "c401713d",
   "metadata": {},
   "source": [
    "So the TF-IDF performs best as the bouldin score suggests"
   ]
  },
  {
   "cell_type": "markdown",
   "id": "e1903947",
   "metadata": {},
   "source": [
    "# Model "
   ]
  },
  {
   "cell_type": "code",
   "execution_count": 39,
   "id": "3c3103cc",
   "metadata": {},
   "outputs": [
    {
     "data": {
      "text/plain": [
       "0       seen disrespect customer 3rd time 2 months una...\n",
       "1       Paid 14 hour long flight ticket includes use f...\n",
       "2       inconsiderate PA announcements purser appearin...\n",
       "3       Absolutely terrible lost luggage flights deliv...\n",
       "4       booked premium economy round trip Phoenix Zuri...\n",
       "                              ...                        \n",
       "3495    JFK LHR Despite image BA TV conveyed Galleries...\n",
       "3496    Rome London Gatwick Delayed Rome largely plane...\n",
       "3497    LHR Hannover Germany wonder BA paid 940 return...\n",
       "3498    LGW Alicante 8th September early flight disapp...\n",
       "3499    2 recent flights LHR SFO 12 hrs 7th Sept San D...\n",
       "Name: Reviews, Length: 3500, dtype: object"
      ]
     },
     "execution_count": 39,
     "metadata": {},
     "output_type": "execute_result"
    }
   ],
   "source": [
    "reviews"
   ]
  },
  {
   "cell_type": "code",
   "execution_count": 40,
   "id": "d08c4b57",
   "metadata": {},
   "outputs": [],
   "source": [
    "Tfidfvectorizer_reviews = TfidfVectorizer(lowercase=True, stop_words='english', tokenizer=tokenizer.tokenize)"
   ]
  },
  {
   "cell_type": "code",
   "execution_count": 41,
   "id": "20b23506",
   "metadata": {},
   "outputs": [
    {
     "data": {
      "text/plain": [
       "<3500x13668 sparse matrix of type '<class 'numpy.float64'>'\n",
       "\twith 221717 stored elements in Compressed Sparse Row format>"
      ]
     },
     "execution_count": 41,
     "metadata": {},
     "output_type": "execute_result"
    }
   ],
   "source": [
    "review_counts = Tfidfvectorizer_reviews.fit_transform(reviews)\n",
    "review_counts"
   ]
  },
  {
   "cell_type": "code",
   "execution_count": 42,
   "id": "13a6ca0f",
   "metadata": {},
   "outputs": [
    {
     "data": {
      "text/plain": [
       "(3500, 13668)"
      ]
     },
     "execution_count": 42,
     "metadata": {},
     "output_type": "execute_result"
    }
   ],
   "source": [
    "review_counts.shape"
   ]
  },
  {
   "cell_type": "code",
   "execution_count": 43,
   "id": "aaa6d18a",
   "metadata": {},
   "outputs": [],
   "source": [
    "kmeans_tfidf = KMeans(n_clusters= 2).fit(review_counts)"
   ]
  },
  {
   "cell_type": "code",
   "execution_count": 44,
   "id": "28de072a",
   "metadata": {},
   "outputs": [
    {
     "data": {
      "text/plain": [
       "array([0, 0, 0, ..., 1, 1, 1])"
      ]
     },
     "execution_count": 44,
     "metadata": {},
     "output_type": "execute_result"
    }
   ],
   "source": [
    "lables_ans = kmeans_tfidf.labels_\n",
    "lables_ans"
   ]
  },
  {
   "cell_type": "code",
   "execution_count": 45,
   "id": "f87955d0",
   "metadata": {},
   "outputs": [
    {
     "data": {
      "text/html": [
       "<div>\n",
       "<style scoped>\n",
       "    .dataframe tbody tr th:only-of-type {\n",
       "        vertical-align: middle;\n",
       "    }\n",
       "\n",
       "    .dataframe tbody tr th {\n",
       "        vertical-align: top;\n",
       "    }\n",
       "\n",
       "    .dataframe thead th {\n",
       "        text-align: right;\n",
       "    }\n",
       "</style>\n",
       "<table border=\"1\" class=\"dataframe\">\n",
       "  <thead>\n",
       "    <tr style=\"text-align: right;\">\n",
       "      <th></th>\n",
       "      <th>Reviews</th>\n",
       "    </tr>\n",
       "  </thead>\n",
       "  <tbody>\n",
       "    <tr>\n",
       "      <th>0</th>\n",
       "      <td>seen disrespect customer 3rd time 2 months una...</td>\n",
       "    </tr>\n",
       "    <tr>\n",
       "      <th>1</th>\n",
       "      <td>Paid 14 hour long flight ticket includes use f...</td>\n",
       "    </tr>\n",
       "    <tr>\n",
       "      <th>2</th>\n",
       "      <td>inconsiderate PA announcements purser appearin...</td>\n",
       "    </tr>\n",
       "    <tr>\n",
       "      <th>3</th>\n",
       "      <td>Absolutely terrible lost luggage flights deliv...</td>\n",
       "    </tr>\n",
       "    <tr>\n",
       "      <th>4</th>\n",
       "      <td>booked premium economy round trip Phoenix Zuri...</td>\n",
       "    </tr>\n",
       "    <tr>\n",
       "      <th>...</th>\n",
       "      <td>...</td>\n",
       "    </tr>\n",
       "    <tr>\n",
       "      <th>3495</th>\n",
       "      <td>JFK LHR Despite image BA TV conveyed Galleries...</td>\n",
       "    </tr>\n",
       "    <tr>\n",
       "      <th>3496</th>\n",
       "      <td>Rome London Gatwick Delayed Rome largely plane...</td>\n",
       "    </tr>\n",
       "    <tr>\n",
       "      <th>3497</th>\n",
       "      <td>LHR Hannover Germany wonder BA paid 940 return...</td>\n",
       "    </tr>\n",
       "    <tr>\n",
       "      <th>3498</th>\n",
       "      <td>LGW Alicante 8th September early flight disapp...</td>\n",
       "    </tr>\n",
       "    <tr>\n",
       "      <th>3499</th>\n",
       "      <td>2 recent flights LHR SFO 12 hrs 7th Sept San D...</td>\n",
       "    </tr>\n",
       "  </tbody>\n",
       "</table>\n",
       "<p>3500 rows × 1 columns</p>\n",
       "</div>"
      ],
      "text/plain": [
       "                                                Reviews\n",
       "0     seen disrespect customer 3rd time 2 months una...\n",
       "1     Paid 14 hour long flight ticket includes use f...\n",
       "2     inconsiderate PA announcements purser appearin...\n",
       "3     Absolutely terrible lost luggage flights deliv...\n",
       "4     booked premium economy round trip Phoenix Zuri...\n",
       "...                                                 ...\n",
       "3495  JFK LHR Despite image BA TV conveyed Galleries...\n",
       "3496  Rome London Gatwick Delayed Rome largely plane...\n",
       "3497  LHR Hannover Germany wonder BA paid 940 return...\n",
       "3498  LGW Alicante 8th September early flight disapp...\n",
       "3499  2 recent flights LHR SFO 12 hrs 7th Sept San D...\n",
       "\n",
       "[3500 rows x 1 columns]"
      ]
     },
     "execution_count": 45,
     "metadata": {},
     "output_type": "execute_result"
    }
   ],
   "source": [
    "output_df = pd.DataFrame(reviews)\n",
    "output_df"
   ]
  },
  {
   "cell_type": "code",
   "execution_count": 46,
   "id": "8ad09d22",
   "metadata": {},
   "outputs": [],
   "source": [
    "output_df['labels'] = lables_ans"
   ]
  },
  {
   "cell_type": "code",
   "execution_count": 47,
   "id": "7676e42f",
   "metadata": {},
   "outputs": [
    {
     "data": {
      "text/html": [
       "<div>\n",
       "<style scoped>\n",
       "    .dataframe tbody tr th:only-of-type {\n",
       "        vertical-align: middle;\n",
       "    }\n",
       "\n",
       "    .dataframe tbody tr th {\n",
       "        vertical-align: top;\n",
       "    }\n",
       "\n",
       "    .dataframe thead th {\n",
       "        text-align: right;\n",
       "    }\n",
       "</style>\n",
       "<table border=\"1\" class=\"dataframe\">\n",
       "  <thead>\n",
       "    <tr style=\"text-align: right;\">\n",
       "      <th></th>\n",
       "      <th>Reviews</th>\n",
       "      <th>labels</th>\n",
       "    </tr>\n",
       "  </thead>\n",
       "  <tbody>\n",
       "    <tr>\n",
       "      <th>0</th>\n",
       "      <td>seen disrespect customer 3rd time 2 months una...</td>\n",
       "      <td>0</td>\n",
       "    </tr>\n",
       "    <tr>\n",
       "      <th>1</th>\n",
       "      <td>Paid 14 hour long flight ticket includes use f...</td>\n",
       "      <td>0</td>\n",
       "    </tr>\n",
       "    <tr>\n",
       "      <th>2</th>\n",
       "      <td>inconsiderate PA announcements purser appearin...</td>\n",
       "      <td>0</td>\n",
       "    </tr>\n",
       "    <tr>\n",
       "      <th>3</th>\n",
       "      <td>Absolutely terrible lost luggage flights deliv...</td>\n",
       "      <td>0</td>\n",
       "    </tr>\n",
       "    <tr>\n",
       "      <th>4</th>\n",
       "      <td>booked premium economy round trip Phoenix Zuri...</td>\n",
       "      <td>0</td>\n",
       "    </tr>\n",
       "    <tr>\n",
       "      <th>...</th>\n",
       "      <td>...</td>\n",
       "      <td>...</td>\n",
       "    </tr>\n",
       "    <tr>\n",
       "      <th>3495</th>\n",
       "      <td>JFK LHR Despite image BA TV conveyed Galleries...</td>\n",
       "      <td>1</td>\n",
       "    </tr>\n",
       "    <tr>\n",
       "      <th>3496</th>\n",
       "      <td>Rome London Gatwick Delayed Rome largely plane...</td>\n",
       "      <td>1</td>\n",
       "    </tr>\n",
       "    <tr>\n",
       "      <th>3497</th>\n",
       "      <td>LHR Hannover Germany wonder BA paid 940 return...</td>\n",
       "      <td>1</td>\n",
       "    </tr>\n",
       "    <tr>\n",
       "      <th>3498</th>\n",
       "      <td>LGW Alicante 8th September early flight disapp...</td>\n",
       "      <td>1</td>\n",
       "    </tr>\n",
       "    <tr>\n",
       "      <th>3499</th>\n",
       "      <td>2 recent flights LHR SFO 12 hrs 7th Sept San D...</td>\n",
       "      <td>1</td>\n",
       "    </tr>\n",
       "  </tbody>\n",
       "</table>\n",
       "<p>3500 rows × 2 columns</p>\n",
       "</div>"
      ],
      "text/plain": [
       "                                                Reviews  labels\n",
       "0     seen disrespect customer 3rd time 2 months una...       0\n",
       "1     Paid 14 hour long flight ticket includes use f...       0\n",
       "2     inconsiderate PA announcements purser appearin...       0\n",
       "3     Absolutely terrible lost luggage flights deliv...       0\n",
       "4     booked premium economy round trip Phoenix Zuri...       0\n",
       "...                                                 ...     ...\n",
       "3495  JFK LHR Despite image BA TV conveyed Galleries...       1\n",
       "3496  Rome London Gatwick Delayed Rome largely plane...       1\n",
       "3497  LHR Hannover Germany wonder BA paid 940 return...       1\n",
       "3498  LGW Alicante 8th September early flight disapp...       1\n",
       "3499  2 recent flights LHR SFO 12 hrs 7th Sept San D...       1\n",
       "\n",
       "[3500 rows x 2 columns]"
      ]
     },
     "execution_count": 47,
     "metadata": {},
     "output_type": "execute_result"
    }
   ],
   "source": [
    "output_df # 0 is negative 1 is positive"
   ]
  },
  {
   "cell_type": "code",
   "execution_count": 48,
   "id": "2299ca7f",
   "metadata": {},
   "outputs": [
    {
     "data": {
      "text/plain": [
       "1    2105\n",
       "0    1395\n",
       "Name: labels, dtype: int64"
      ]
     },
     "execution_count": 48,
     "metadata": {},
     "output_type": "execute_result"
    }
   ],
   "source": [
    "output_df.labels.value_counts()"
   ]
  },
  {
   "cell_type": "code",
   "execution_count": 49,
   "id": "1fa68a91",
   "metadata": {},
   "outputs": [
    {
     "data": {
      "text/plain": [
       "12.499736369764745"
      ]
     },
     "execution_count": 49,
     "metadata": {},
     "output_type": "execute_result"
    }
   ],
   "source": [
    "metrics.davies_bouldin_score(review_counts.toarray(), lables_ans)"
   ]
  },
  {
   "cell_type": "code",
   "execution_count": 50,
   "id": "06a80255",
   "metadata": {},
   "outputs": [
    {
     "data": {
      "text/plain": [
       "0.006548344482234541"
      ]
     },
     "execution_count": 50,
     "metadata": {},
     "output_type": "execute_result"
    }
   ],
   "source": [
    "metrics.silhouette_score(review_counts.toarray(), lables_ans, metric='euclidean')"
   ]
  },
  {
   "cell_type": "code",
   "execution_count": 51,
   "id": "e5c87fd6",
   "metadata": {},
   "outputs": [
    {
     "data": {
      "text/plain": [
       "<seaborn.axisgrid.FacetGrid at 0x234a3adfa30>"
      ]
     },
     "execution_count": 51,
     "metadata": {},
     "output_type": "execute_result"
    },
    {
     "data": {
      "image/png": "[encoded data removed]",
      "text/plain": [
       "<Figure size 500x500 with 1 Axes>"
      ]
     },
     "metadata": {},
     "output_type": "display_data"
    }
   ],
   "source": [
    "sns.displot(output_df['labels'], kde=True)"
   ]
  },
  {
   "cell_type": "code",
   "execution_count": 52,
   "id": "b4f57c47",
   "metadata": {},
   "outputs": [
    {
     "data": {
      "text/html": [
       "<div>\n",
       "<style scoped>\n",
       "    .dataframe tbody tr th:only-of-type {\n",
       "        vertical-align: middle;\n",
       "    }\n",
       "\n",
       "    .dataframe tbody tr th {\n",
       "        vertical-align: top;\n",
       "    }\n",
       "\n",
       "    .dataframe thead th {\n",
       "        text-align: right;\n",
       "    }\n",
       "</style>\n",
       "<table border=\"1\" class=\"dataframe\">\n",
       "  <thead>\n",
       "    <tr style=\"text-align: right;\">\n",
       "      <th></th>\n",
       "      <th>Reviews</th>\n",
       "      <th>labels</th>\n",
       "    </tr>\n",
       "  </thead>\n",
       "  <tbody>\n",
       "    <tr>\n",
       "      <th>9</th>\n",
       "      <td>Check fast friendly Security breeze Lounge bus...</td>\n",
       "      <td>1</td>\n",
       "    </tr>\n",
       "    <tr>\n",
       "      <th>10</th>\n",
       "      <td>time seen new Club World suite seat comfortabl...</td>\n",
       "      <td>1</td>\n",
       "    </tr>\n",
       "    <tr>\n",
       "      <th>11</th>\n",
       "      <td>Flew business class Doha London 31st March ser...</td>\n",
       "      <td>1</td>\n",
       "    </tr>\n",
       "    <tr>\n",
       "      <th>12</th>\n",
       "      <td>Starting Heathrow Terminal 3 Check fairly easy...</td>\n",
       "      <td>1</td>\n",
       "    </tr>\n",
       "    <tr>\n",
       "      <th>14</th>\n",
       "      <td>minute business trip HND route regularly fly O...</td>\n",
       "      <td>1</td>\n",
       "    </tr>\n",
       "    <tr>\n",
       "      <th>...</th>\n",
       "      <td>...</td>\n",
       "      <td>...</td>\n",
       "    </tr>\n",
       "    <tr>\n",
       "      <th>3495</th>\n",
       "      <td>JFK LHR Despite image BA TV conveyed Galleries...</td>\n",
       "      <td>1</td>\n",
       "    </tr>\n",
       "    <tr>\n",
       "      <th>3496</th>\n",
       "      <td>Rome London Gatwick Delayed Rome largely plane...</td>\n",
       "      <td>1</td>\n",
       "    </tr>\n",
       "    <tr>\n",
       "      <th>3497</th>\n",
       "      <td>LHR Hannover Germany wonder BA paid 940 return...</td>\n",
       "      <td>1</td>\n",
       "    </tr>\n",
       "    <tr>\n",
       "      <th>3498</th>\n",
       "      <td>LGW Alicante 8th September early flight disapp...</td>\n",
       "      <td>1</td>\n",
       "    </tr>\n",
       "    <tr>\n",
       "      <th>3499</th>\n",
       "      <td>2 recent flights LHR SFO 12 hrs 7th Sept San D...</td>\n",
       "      <td>1</td>\n",
       "    </tr>\n",
       "  </tbody>\n",
       "</table>\n",
       "<p>2105 rows × 2 columns</p>\n",
       "</div>"
      ],
      "text/plain": [
       "                                                Reviews  labels\n",
       "9     Check fast friendly Security breeze Lounge bus...       1\n",
       "10    time seen new Club World suite seat comfortabl...       1\n",
       "11    Flew business class Doha London 31st March ser...       1\n",
       "12    Starting Heathrow Terminal 3 Check fairly easy...       1\n",
       "14    minute business trip HND route regularly fly O...       1\n",
       "...                                                 ...     ...\n",
       "3495  JFK LHR Despite image BA TV conveyed Galleries...       1\n",
       "3496  Rome London Gatwick Delayed Rome largely plane...       1\n",
       "3497  LHR Hannover Germany wonder BA paid 940 return...       1\n",
       "3498  LGW Alicante 8th September early flight disapp...       1\n",
       "3499  2 recent flights LHR SFO 12 hrs 7th Sept San D...       1\n",
       "\n",
       "[2105 rows x 2 columns]"
      ]
     },
     "execution_count": 52,
     "metadata": {},
     "output_type": "execute_result"
    }
   ],
   "source": [
    "positive_reviews = output_df[output_df['labels']==1]\n",
    "positive_reviews"
   ]
  },
  {
   "cell_type": "code",
   "execution_count": 53,
   "id": "05dbfac8",
   "metadata": {},
   "outputs": [
    {
     "data": {
      "text/html": [
       "<div>\n",
       "<style scoped>\n",
       "    .dataframe tbody tr th:only-of-type {\n",
       "        vertical-align: middle;\n",
       "    }\n",
       "\n",
       "    .dataframe tbody tr th {\n",
       "        vertical-align: top;\n",
       "    }\n",
       "\n",
       "    .dataframe thead th {\n",
       "        text-align: right;\n",
       "    }\n",
       "</style>\n",
       "<table border=\"1\" class=\"dataframe\">\n",
       "  <thead>\n",
       "    <tr style=\"text-align: right;\">\n",
       "      <th></th>\n",
       "      <th>Reviews</th>\n",
       "      <th>labels</th>\n",
       "    </tr>\n",
       "  </thead>\n",
       "  <tbody>\n",
       "    <tr>\n",
       "      <th>0</th>\n",
       "      <td>seen disrespect customer 3rd time 2 months una...</td>\n",
       "      <td>0</td>\n",
       "    </tr>\n",
       "    <tr>\n",
       "      <th>1</th>\n",
       "      <td>Paid 14 hour long flight ticket includes use f...</td>\n",
       "      <td>0</td>\n",
       "    </tr>\n",
       "    <tr>\n",
       "      <th>2</th>\n",
       "      <td>inconsiderate PA announcements purser appearin...</td>\n",
       "      <td>0</td>\n",
       "    </tr>\n",
       "    <tr>\n",
       "      <th>3</th>\n",
       "      <td>Absolutely terrible lost luggage flights deliv...</td>\n",
       "      <td>0</td>\n",
       "    </tr>\n",
       "    <tr>\n",
       "      <th>4</th>\n",
       "      <td>booked premium economy round trip Phoenix Zuri...</td>\n",
       "      <td>0</td>\n",
       "    </tr>\n",
       "    <tr>\n",
       "      <th>...</th>\n",
       "      <td>...</td>\n",
       "      <td>...</td>\n",
       "    </tr>\n",
       "    <tr>\n",
       "      <th>3459</th>\n",
       "      <td>flew BA London Dulles DC 10 8 2014 Unfortunate...</td>\n",
       "      <td>0</td>\n",
       "    </tr>\n",
       "    <tr>\n",
       "      <th>3467</th>\n",
       "      <td>Dont think flying airline Booked paid confirme...</td>\n",
       "      <td>0</td>\n",
       "    </tr>\n",
       "    <tr>\n",
       "      <th>3468</th>\n",
       "      <td>LGW SZG Absolutely useless scheduled service r...</td>\n",
       "      <td>0</td>\n",
       "    </tr>\n",
       "    <tr>\n",
       "      <th>3474</th>\n",
       "      <td>Traveled Rome British Airways way went fine da...</td>\n",
       "      <td>0</td>\n",
       "    </tr>\n",
       "    <tr>\n",
       "      <th>3480</th>\n",
       "      <td>Hannover LHR miserable experience return ticke...</td>\n",
       "      <td>0</td>\n",
       "    </tr>\n",
       "  </tbody>\n",
       "</table>\n",
       "<p>1395 rows × 2 columns</p>\n",
       "</div>"
      ],
      "text/plain": [
       "                                                Reviews  labels\n",
       "0     seen disrespect customer 3rd time 2 months una...       0\n",
       "1     Paid 14 hour long flight ticket includes use f...       0\n",
       "2     inconsiderate PA announcements purser appearin...       0\n",
       "3     Absolutely terrible lost luggage flights deliv...       0\n",
       "4     booked premium economy round trip Phoenix Zuri...       0\n",
       "...                                                 ...     ...\n",
       "3459  flew BA London Dulles DC 10 8 2014 Unfortunate...       0\n",
       "3467  Dont think flying airline Booked paid confirme...       0\n",
       "3468  LGW SZG Absolutely useless scheduled service r...       0\n",
       "3474  Traveled Rome British Airways way went fine da...       0\n",
       "3480  Hannover LHR miserable experience return ticke...       0\n",
       "\n",
       "[1395 rows x 2 columns]"
      ]
     },
     "execution_count": 53,
     "metadata": {},
     "output_type": "execute_result"
    }
   ],
   "source": [
    "negative_reviews = output_df[output_df['labels']==0]\n",
    "negative_reviews"
   ]
  },
  {
   "cell_type": "code",
   "execution_count": 56,
   "id": "61c2b13d",
   "metadata": {},
   "outputs": [],
   "source": [
    "wordcloud = WordCloud(random_state=42).generate(' '.join(keys))"
   ]
  },
  {
   "cell_type": "code",
   "execution_count": 57,
   "id": "f10c9887",
   "metadata": {},
   "outputs": [
    {
     "data": {
      "image/png": "[encoded data removed]",
      "text/plain": [
       "<Figure size 640x480 with 1 Axes>"
      ]
     },
     "metadata": {},
     "output_type": "display_data"
    }
   ],
   "source": [
    "plt.imshow(wordcloud, interpolation= 'bilinear')\n",
    "plt.axis(\"off\")\n",
    "plt.show()"
   ]
  },
  {
   "cell_type": "markdown",
   "id": "6f499f49",
   "metadata": {},
   "source": [
    "# Vader Sentiment Analysis"
   ]
  },
  {
   "cell_type": "code",
   "execution_count": 70,
   "id": "bf16dfc6",
   "metadata": {},
   "outputs": [],
   "source": [
    "from nltk.sentiment import vader\n",
    "import nltk"
   ]
  },
  {
   "cell_type": "code",
   "execution_count": 71,
   "id": "d882f5b0",
   "metadata": {},
   "outputs": [
    {
     "name": "stderr",
     "output_type": "stream",
     "text": [
      "[nltk_data] Downloading package vader_lexicon to\n",
      "[nltk_data]     C:\\Users\\david\\AppData\\Roaming\\nltk_data...\n"
     ]
    },
    {
     "data": {
      "text/plain": [
       "True"
      ]
     },
     "execution_count": 71,
     "metadata": {},
     "output_type": "execute_result"
    }
   ],
   "source": [
    "nltk.download('vader_lexicon')"
   ]
  },
  {
   "cell_type": "code",
   "execution_count": 72,
   "id": "9f5c90b7",
   "metadata": {},
   "outputs": [],
   "source": [
    "sentiment_analyzer = vader.SentimentIntensityAnalyzer()"
   ]
  },
  {
   "cell_type": "code",
   "execution_count": 60,
   "id": "82b79c11",
   "metadata": {},
   "outputs": [],
   "source": [
    "vader_british_airways_df = df\n",
    "vader_british_airways_df = vader_british_airways_df.drop('reviews', axis = 1)"
   ]
  },
  {
   "cell_type": "code",
   "execution_count": 61,
   "id": "43efb4f3",
   "metadata": {},
   "outputs": [
    {
     "data": {
      "text/html": [
       "<div>\n",
       "<style scoped>\n",
       "    .dataframe tbody tr th:only-of-type {\n",
       "        vertical-align: middle;\n",
       "    }\n",
       "\n",
       "    .dataframe tbody tr th {\n",
       "        vertical-align: top;\n",
       "    }\n",
       "\n",
       "    .dataframe thead th {\n",
       "        text-align: right;\n",
       "    }\n",
       "</style>\n",
       "<table border=\"1\" class=\"dataframe\">\n",
       "  <thead>\n",
       "    <tr style=\"text-align: right;\">\n",
       "      <th></th>\n",
       "      <th>Reviews</th>\n",
       "    </tr>\n",
       "  </thead>\n",
       "  <tbody>\n",
       "    <tr>\n",
       "      <th>0</th>\n",
       "      <td>seen disrespect customer 3rd time 2 months una...</td>\n",
       "    </tr>\n",
       "    <tr>\n",
       "      <th>1</th>\n",
       "      <td>Paid 14 hour long flight ticket includes use f...</td>\n",
       "    </tr>\n",
       "    <tr>\n",
       "      <th>2</th>\n",
       "      <td>inconsiderate PA announcements purser appearin...</td>\n",
       "    </tr>\n",
       "    <tr>\n",
       "      <th>3</th>\n",
       "      <td>Absolutely terrible lost luggage flights deliv...</td>\n",
       "    </tr>\n",
       "    <tr>\n",
       "      <th>4</th>\n",
       "      <td>booked premium economy round trip Phoenix Zuri...</td>\n",
       "    </tr>\n",
       "    <tr>\n",
       "      <th>...</th>\n",
       "      <td>...</td>\n",
       "    </tr>\n",
       "    <tr>\n",
       "      <th>3495</th>\n",
       "      <td>JFK LHR Despite image BA TV conveyed Galleries...</td>\n",
       "    </tr>\n",
       "    <tr>\n",
       "      <th>3496</th>\n",
       "      <td>Rome London Gatwick Delayed Rome largely plane...</td>\n",
       "    </tr>\n",
       "    <tr>\n",
       "      <th>3497</th>\n",
       "      <td>LHR Hannover Germany wonder BA paid 940 return...</td>\n",
       "    </tr>\n",
       "    <tr>\n",
       "      <th>3498</th>\n",
       "      <td>LGW Alicante 8th September early flight disapp...</td>\n",
       "    </tr>\n",
       "    <tr>\n",
       "      <th>3499</th>\n",
       "      <td>2 recent flights LHR SFO 12 hrs 7th Sept San D...</td>\n",
       "    </tr>\n",
       "  </tbody>\n",
       "</table>\n",
       "<p>3500 rows × 1 columns</p>\n",
       "</div>"
      ],
      "text/plain": [
       "                                                Reviews\n",
       "0     seen disrespect customer 3rd time 2 months una...\n",
       "1     Paid 14 hour long flight ticket includes use f...\n",
       "2     inconsiderate PA announcements purser appearin...\n",
       "3     Absolutely terrible lost luggage flights deliv...\n",
       "4     booked premium economy round trip Phoenix Zuri...\n",
       "...                                                 ...\n",
       "3495  JFK LHR Despite image BA TV conveyed Galleries...\n",
       "3496  Rome London Gatwick Delayed Rome largely plane...\n",
       "3497  LHR Hannover Germany wonder BA paid 940 return...\n",
       "3498  LGW Alicante 8th September early flight disapp...\n",
       "3499  2 recent flights LHR SFO 12 hrs 7th Sept San D...\n",
       "\n",
       "[3500 rows x 1 columns]"
      ]
     },
     "execution_count": 61,
     "metadata": {},
     "output_type": "execute_result"
    }
   ],
   "source": [
    "vader_british_airways_df"
   ]
  },
  {
   "cell_type": "code",
   "execution_count": 76,
   "id": "3fc63687",
   "metadata": {},
   "outputs": [
    {
     "data": {
      "text/html": [
       "<div>\n",
       "<style scoped>\n",
       "    .dataframe tbody tr th:only-of-type {\n",
       "        vertical-align: middle;\n",
       "    }\n",
       "\n",
       "    .dataframe tbody tr th {\n",
       "        vertical-align: top;\n",
       "    }\n",
       "\n",
       "    .dataframe thead th {\n",
       "        text-align: right;\n",
       "    }\n",
       "</style>\n",
       "<table border=\"1\" class=\"dataframe\">\n",
       "  <thead>\n",
       "    <tr style=\"text-align: right;\">\n",
       "      <th></th>\n",
       "      <th>Reviews</th>\n",
       "      <th>polarity_value</th>\n",
       "    </tr>\n",
       "  </thead>\n",
       "  <tbody>\n",
       "    <tr>\n",
       "      <th>0</th>\n",
       "      <td>seen disrespect customer 3rd time 2 months una...</td>\n",
       "      <td>-0.7650</td>\n",
       "    </tr>\n",
       "    <tr>\n",
       "      <th>1</th>\n",
       "      <td>Paid 14 hour long flight ticket includes use f...</td>\n",
       "      <td>0.4211</td>\n",
       "    </tr>\n",
       "    <tr>\n",
       "      <th>2</th>\n",
       "      <td>inconsiderate PA announcements purser appearin...</td>\n",
       "      <td>-0.9674</td>\n",
       "    </tr>\n",
       "    <tr>\n",
       "      <th>3</th>\n",
       "      <td>Absolutely terrible lost luggage flights deliv...</td>\n",
       "      <td>-0.9646</td>\n",
       "    </tr>\n",
       "    <tr>\n",
       "      <th>4</th>\n",
       "      <td>booked premium economy round trip Phoenix Zuri...</td>\n",
       "      <td>0.8258</td>\n",
       "    </tr>\n",
       "    <tr>\n",
       "      <th>...</th>\n",
       "      <td>...</td>\n",
       "      <td>...</td>\n",
       "    </tr>\n",
       "    <tr>\n",
       "      <th>3495</th>\n",
       "      <td>JFK LHR Despite image BA TV conveyed Galleries...</td>\n",
       "      <td>0.8667</td>\n",
       "    </tr>\n",
       "    <tr>\n",
       "      <th>3496</th>\n",
       "      <td>Rome London Gatwick Delayed Rome largely plane...</td>\n",
       "      <td>0.9001</td>\n",
       "    </tr>\n",
       "    <tr>\n",
       "      <th>3497</th>\n",
       "      <td>LHR Hannover Germany wonder BA paid 940 return...</td>\n",
       "      <td>0.8071</td>\n",
       "    </tr>\n",
       "    <tr>\n",
       "      <th>3498</th>\n",
       "      <td>LGW Alicante 8th September early flight disapp...</td>\n",
       "      <td>0.9177</td>\n",
       "    </tr>\n",
       "    <tr>\n",
       "      <th>3499</th>\n",
       "      <td>2 recent flights LHR SFO 12 hrs 7th Sept San D...</td>\n",
       "      <td>-0.9590</td>\n",
       "    </tr>\n",
       "  </tbody>\n",
       "</table>\n",
       "<p>3500 rows × 2 columns</p>\n",
       "</div>"
      ],
      "text/plain": [
       "                                                Reviews  polarity_value\n",
       "0     seen disrespect customer 3rd time 2 months una...         -0.7650\n",
       "1     Paid 14 hour long flight ticket includes use f...          0.4211\n",
       "2     inconsiderate PA announcements purser appearin...         -0.9674\n",
       "3     Absolutely terrible lost luggage flights deliv...         -0.9646\n",
       "4     booked premium economy round trip Phoenix Zuri...          0.8258\n",
       "...                                                 ...             ...\n",
       "3495  JFK LHR Despite image BA TV conveyed Galleries...          0.8667\n",
       "3496  Rome London Gatwick Delayed Rome largely plane...          0.9001\n",
       "3497  LHR Hannover Germany wonder BA paid 940 return...          0.8071\n",
       "3498  LGW Alicante 8th September early flight disapp...          0.9177\n",
       "3499  2 recent flights LHR SFO 12 hrs 7th Sept San D...         -0.9590\n",
       "\n",
       "[3500 rows x 2 columns]"
      ]
     },
     "execution_count": 76,
     "metadata": {},
     "output_type": "execute_result"
    }
   ],
   "source": [
    "vader_british_airways_df['polarity_value']= vader_british_airways_df['Reviews'].apply(lambda review : sentiment_analyzer.polarity_scores(review)['compound'])\n",
    "vader_british_airways_df"
   ]
  },
  {
   "cell_type": "markdown",
   "id": "116cb720",
   "metadata": {},
   "source": [
    "Creating Positive and Negative Classes"
   ]
  },
  {
   "cell_type": "code",
   "execution_count": 97,
   "id": "fdc9766d",
   "metadata": {},
   "outputs": [
    {
     "data": {
      "text/html": [
       "<div>\n",
       "<style scoped>\n",
       "    .dataframe tbody tr th:only-of-type {\n",
       "        vertical-align: middle;\n",
       "    }\n",
       "\n",
       "    .dataframe tbody tr th {\n",
       "        vertical-align: top;\n",
       "    }\n",
       "\n",
       "    .dataframe thead th {\n",
       "        text-align: right;\n",
       "    }\n",
       "</style>\n",
       "<table border=\"1\" class=\"dataframe\">\n",
       "  <thead>\n",
       "    <tr style=\"text-align: right;\">\n",
       "      <th></th>\n",
       "      <th>Reviews</th>\n",
       "      <th>polarity_value</th>\n",
       "      <th>Sentiment</th>\n",
       "    </tr>\n",
       "  </thead>\n",
       "  <tbody>\n",
       "    <tr>\n",
       "      <th>0</th>\n",
       "      <td>seen disrespect customer 3rd time 2 months una...</td>\n",
       "      <td>-0.7650</td>\n",
       "      <td>negative</td>\n",
       "    </tr>\n",
       "    <tr>\n",
       "      <th>1</th>\n",
       "      <td>Paid 14 hour long flight ticket includes use f...</td>\n",
       "      <td>0.4211</td>\n",
       "      <td>positive</td>\n",
       "    </tr>\n",
       "    <tr>\n",
       "      <th>2</th>\n",
       "      <td>inconsiderate PA announcements purser appearin...</td>\n",
       "      <td>-0.9674</td>\n",
       "      <td>negative</td>\n",
       "    </tr>\n",
       "    <tr>\n",
       "      <th>3</th>\n",
       "      <td>Absolutely terrible lost luggage flights deliv...</td>\n",
       "      <td>-0.9646</td>\n",
       "      <td>negative</td>\n",
       "    </tr>\n",
       "    <tr>\n",
       "      <th>4</th>\n",
       "      <td>booked premium economy round trip Phoenix Zuri...</td>\n",
       "      <td>0.8258</td>\n",
       "      <td>positive</td>\n",
       "    </tr>\n",
       "    <tr>\n",
       "      <th>...</th>\n",
       "      <td>...</td>\n",
       "      <td>...</td>\n",
       "      <td>...</td>\n",
       "    </tr>\n",
       "    <tr>\n",
       "      <th>3495</th>\n",
       "      <td>JFK LHR Despite image BA TV conveyed Galleries...</td>\n",
       "      <td>0.8667</td>\n",
       "      <td>positive</td>\n",
       "    </tr>\n",
       "    <tr>\n",
       "      <th>3496</th>\n",
       "      <td>Rome London Gatwick Delayed Rome largely plane...</td>\n",
       "      <td>0.9001</td>\n",
       "      <td>positive</td>\n",
       "    </tr>\n",
       "    <tr>\n",
       "      <th>3497</th>\n",
       "      <td>LHR Hannover Germany wonder BA paid 940 return...</td>\n",
       "      <td>0.8071</td>\n",
       "      <td>positive</td>\n",
       "    </tr>\n",
       "    <tr>\n",
       "      <th>3498</th>\n",
       "      <td>LGW Alicante 8th September early flight disapp...</td>\n",
       "      <td>0.9177</td>\n",
       "      <td>positive</td>\n",
       "    </tr>\n",
       "    <tr>\n",
       "      <th>3499</th>\n",
       "      <td>2 recent flights LHR SFO 12 hrs 7th Sept San D...</td>\n",
       "      <td>-0.9590</td>\n",
       "      <td>negative</td>\n",
       "    </tr>\n",
       "  </tbody>\n",
       "</table>\n",
       "<p>3500 rows × 3 columns</p>\n",
       "</div>"
      ],
      "text/plain": [
       "                                                Reviews  polarity_value  \\\n",
       "0     seen disrespect customer 3rd time 2 months una...         -0.7650   \n",
       "1     Paid 14 hour long flight ticket includes use f...          0.4211   \n",
       "2     inconsiderate PA announcements purser appearin...         -0.9674   \n",
       "3     Absolutely terrible lost luggage flights deliv...         -0.9646   \n",
       "4     booked premium economy round trip Phoenix Zuri...          0.8258   \n",
       "...                                                 ...             ...   \n",
       "3495  JFK LHR Despite image BA TV conveyed Galleries...          0.8667   \n",
       "3496  Rome London Gatwick Delayed Rome largely plane...          0.9001   \n",
       "3497  LHR Hannover Germany wonder BA paid 940 return...          0.8071   \n",
       "3498  LGW Alicante 8th September early flight disapp...          0.9177   \n",
       "3499  2 recent flights LHR SFO 12 hrs 7th Sept San D...         -0.9590   \n",
       "\n",
       "     Sentiment  \n",
       "0     negative  \n",
       "1     positive  \n",
       "2     negative  \n",
       "3     negative  \n",
       "4     positive  \n",
       "...        ...  \n",
       "3495  positive  \n",
       "3496  positive  \n",
       "3497  positive  \n",
       "3498  positive  \n",
       "3499  negative  \n",
       "\n",
       "[3500 rows x 3 columns]"
      ]
     },
     "execution_count": 97,
     "metadata": {},
     "output_type": "execute_result"
    }
   ],
   "source": [
    "vader_british_airways_df['Sentiment']= vader_british_airways_df['polarity_value'].apply(lambda score: 'positive' if score > 0 else ('negative' if score < 0 else 'neutral'))\n",
    "vader_british_airways_df"
   ]
  },
  {
   "cell_type": "code",
   "execution_count": 124,
   "id": "8ee8a795",
   "metadata": {},
   "outputs": [
    {
     "data": {
      "text/html": [
       "<div>\n",
       "<style scoped>\n",
       "    .dataframe tbody tr th:only-of-type {\n",
       "        vertical-align: middle;\n",
       "    }\n",
       "\n",
       "    .dataframe tbody tr th {\n",
       "        vertical-align: top;\n",
       "    }\n",
       "\n",
       "    .dataframe thead th {\n",
       "        text-align: right;\n",
       "    }\n",
       "</style>\n",
       "<table border=\"1\" class=\"dataframe\">\n",
       "  <thead>\n",
       "    <tr style=\"text-align: right;\">\n",
       "      <th></th>\n",
       "      <th>Reviews</th>\n",
       "      <th>polarity_value</th>\n",
       "      <th>Sentiment</th>\n",
       "      <th>sentiment_val</th>\n",
       "    </tr>\n",
       "  </thead>\n",
       "  <tbody>\n",
       "    <tr>\n",
       "      <th>0</th>\n",
       "      <td>seen disrespect customer 3rd time 2 months una...</td>\n",
       "      <td>-0.7650</td>\n",
       "      <td>negative</td>\n",
       "      <td>2</td>\n",
       "    </tr>\n",
       "    <tr>\n",
       "      <th>1</th>\n",
       "      <td>Paid 14 hour long flight ticket includes use f...</td>\n",
       "      <td>0.4211</td>\n",
       "      <td>positive</td>\n",
       "      <td>1</td>\n",
       "    </tr>\n",
       "    <tr>\n",
       "      <th>2</th>\n",
       "      <td>inconsiderate PA announcements purser appearin...</td>\n",
       "      <td>-0.9674</td>\n",
       "      <td>negative</td>\n",
       "      <td>2</td>\n",
       "    </tr>\n",
       "    <tr>\n",
       "      <th>3</th>\n",
       "      <td>Absolutely terrible lost luggage flights deliv...</td>\n",
       "      <td>-0.9646</td>\n",
       "      <td>negative</td>\n",
       "      <td>2</td>\n",
       "    </tr>\n",
       "    <tr>\n",
       "      <th>4</th>\n",
       "      <td>booked premium economy round trip Phoenix Zuri...</td>\n",
       "      <td>0.8258</td>\n",
       "      <td>positive</td>\n",
       "      <td>1</td>\n",
       "    </tr>\n",
       "    <tr>\n",
       "      <th>...</th>\n",
       "      <td>...</td>\n",
       "      <td>...</td>\n",
       "      <td>...</td>\n",
       "      <td>...</td>\n",
       "    </tr>\n",
       "    <tr>\n",
       "      <th>3495</th>\n",
       "      <td>JFK LHR Despite image BA TV conveyed Galleries...</td>\n",
       "      <td>0.8667</td>\n",
       "      <td>positive</td>\n",
       "      <td>1</td>\n",
       "    </tr>\n",
       "    <tr>\n",
       "      <th>3496</th>\n",
       "      <td>Rome London Gatwick Delayed Rome largely plane...</td>\n",
       "      <td>0.9001</td>\n",
       "      <td>positive</td>\n",
       "      <td>1</td>\n",
       "    </tr>\n",
       "    <tr>\n",
       "      <th>3497</th>\n",
       "      <td>LHR Hannover Germany wonder BA paid 940 return...</td>\n",
       "      <td>0.8071</td>\n",
       "      <td>positive</td>\n",
       "      <td>1</td>\n",
       "    </tr>\n",
       "    <tr>\n",
       "      <th>3498</th>\n",
       "      <td>LGW Alicante 8th September early flight disapp...</td>\n",
       "      <td>0.9177</td>\n",
       "      <td>positive</td>\n",
       "      <td>1</td>\n",
       "    </tr>\n",
       "    <tr>\n",
       "      <th>3499</th>\n",
       "      <td>2 recent flights LHR SFO 12 hrs 7th Sept San D...</td>\n",
       "      <td>-0.9590</td>\n",
       "      <td>negative</td>\n",
       "      <td>2</td>\n",
       "    </tr>\n",
       "  </tbody>\n",
       "</table>\n",
       "<p>3500 rows × 4 columns</p>\n",
       "</div>"
      ],
      "text/plain": [
       "                                                Reviews  polarity_value  \\\n",
       "0     seen disrespect customer 3rd time 2 months una...         -0.7650   \n",
       "1     Paid 14 hour long flight ticket includes use f...          0.4211   \n",
       "2     inconsiderate PA announcements purser appearin...         -0.9674   \n",
       "3     Absolutely terrible lost luggage flights deliv...         -0.9646   \n",
       "4     booked premium economy round trip Phoenix Zuri...          0.8258   \n",
       "...                                                 ...             ...   \n",
       "3495  JFK LHR Despite image BA TV conveyed Galleries...          0.8667   \n",
       "3496  Rome London Gatwick Delayed Rome largely plane...          0.9001   \n",
       "3497  LHR Hannover Germany wonder BA paid 940 return...          0.8071   \n",
       "3498  LGW Alicante 8th September early flight disapp...          0.9177   \n",
       "3499  2 recent flights LHR SFO 12 hrs 7th Sept San D...         -0.9590   \n",
       "\n",
       "     Sentiment  sentiment_val  \n",
       "0     negative              2  \n",
       "1     positive              1  \n",
       "2     negative              2  \n",
       "3     negative              2  \n",
       "4     positive              1  \n",
       "...        ...            ...  \n",
       "3495  positive              1  \n",
       "3496  positive              1  \n",
       "3497  positive              1  \n",
       "3498  positive              1  \n",
       "3499  negative              2  \n",
       "\n",
       "[3500 rows x 4 columns]"
      ]
     },
     "execution_count": 124,
     "metadata": {},
     "output_type": "execute_result"
    }
   ],
   "source": [
    "vader_british_airways_df['sentiment_val'] = vader_british_airways_df['Sentiment'].replace({'positive':1, 'negative':2,'neutral':0})\n",
    "vader_british_airways_df"
   ]
  },
  {
   "cell_type": "code",
   "execution_count": 98,
   "id": "42555e08",
   "metadata": {},
   "outputs": [
    {
     "data": {
      "text/plain": [
       "Reviews           0\n",
       "polarity_value    0\n",
       "Sentiment         0\n",
       "dtype: int64"
      ]
     },
     "execution_count": 98,
     "metadata": {},
     "output_type": "execute_result"
    }
   ],
   "source": [
    "vader_british_airways_df.isna().sum()"
   ]
  },
  {
   "cell_type": "code",
   "execution_count": 100,
   "id": "a2832ed9",
   "metadata": {},
   "outputs": [
    {
     "data": {
      "text/plain": [
       "positive    2251\n",
       "negative    1227\n",
       "neutral       22\n",
       "Name: Sentiment, dtype: int64"
      ]
     },
     "execution_count": 100,
     "metadata": {},
     "output_type": "execute_result"
    }
   ],
   "source": [
    "Sentiments_values = vader_british_airways_df['Sentiment'].value_counts()\n",
    "Sentiments_values"
   ]
  },
  {
   "cell_type": "code",
   "execution_count": 108,
   "id": "db1f1fe4",
   "metadata": {},
   "outputs": [
    {
     "name": "stdout",
     "output_type": "stream",
     "text": [
      "['positive', 'negative', 'neutral'] [2251, 1227, 22]\n"
     ]
    }
   ],
   "source": [
    "pie_labels = []\n",
    "pie_values = []\n",
    "for i, j in Sentiments_values.items():\n",
    "    pie_labels.append(i)\n",
    "    pie_values.append(j)\n",
    "print(pie_labels, pie_values)"
   ]
  },
  {
   "cell_type": "code",
   "execution_count": 114,
   "id": "3f0555e8",
   "metadata": {},
   "outputs": [
    {
     "data": {
      "text/plain": [
       "<matplotlib.legend.Legend at 0x234a2e903a0>"
      ]
     },
     "execution_count": 114,
     "metadata": {},
     "output_type": "execute_result"
    },
    {
     "data": {
      "image/png": "[encoded data removed]",
      "text/plain": [
       "<Figure size 640x480 with 1 Axes>"
      ]
     },
     "metadata": {},
     "output_type": "display_data"
    }
   ],
   "source": [
    "plt.pie(pie_values,colors=['green', 'red', 'black'] ,labels=pie_labels,autopct='%1.1f%%',explode=[0.1, 0, 0.1])\n",
    "plt.legend()"
   ]
  },
  {
   "cell_type": "code",
   "execution_count": 125,
   "id": "8a766cc8",
   "metadata": {},
   "outputs": [],
   "source": [
    "vader_british_airways_df.to_csv('data/sentiment_british_airways.csv')"
   ]
  },
  {
   "cell_type": "code",
   "execution_count": 121,
   "id": "02a611bd",
   "metadata": {},
   "outputs": [
    {
     "data": {
      "text/plain": [
       "13668"
      ]
     },
     "execution_count": 121,
     "metadata": {},
     "output_type": "execute_result"
    }
   ],
   "source": [
    "kmeans_tfidf.n_features_in_"
   ]
  },
  {
   "cell_type": "code",
   "execution_count": 126,
   "id": "5926f85d",
   "metadata": {},
   "outputs": [
    {
     "data": {
      "text/plain": [
       "<seaborn.axisgrid.FacetGrid at 0x234aa3cb880>"
      ]
     },
     "execution_count": 126,
     "metadata": {},
     "output_type": "execute_result"
    },
    {
     "data": {
      "image/png": "[encoded data removed]",
      "text/plain": [
       "<Figure size 500x500 with 1 Axes>"
      ]
     },
     "metadata": {},
     "output_type": "display_data"
    }
   ],
   "source": [
    "sns.displot(vader_british_airways_df['sentiment_val'], kde=True)"
   ]
  },
  {
   "cell_type": "code",
   "execution_count": 127,
   "id": "62a4434c",
   "metadata": {},
   "outputs": [
    {
     "data": {
      "text/plain": [
       "<seaborn.axisgrid.FacetGrid at 0x234a99fbaf0>"
      ]
     },
     "execution_count": 127,
     "metadata": {},
     "output_type": "execute_result"
    },
    {
     "data": {
      "image/png": "[encoded data removed]",
      "text/plain": [
       "<Figure size 500x500 with 1 Axes>"
      ]
     },
     "metadata": {},
     "output_type": "display_data"
    }
   ],
   "source": [
    "sns.displot(vader_british_airways_df['polarity_value'], kde=True)"
   ]
  },
  {
   "cell_type": "code",
   "execution_count": null,
   "id": "f50ad047",
   "metadata": {},
   "outputs": [],
   "source": []
  }
 ],
 "metadata": {
  "kernelspec": {
   "display_name": "Python 3 (ipykernel)",
   "language": "python",
   "name": "python3"
  },
  "language_info": {
   "codemirror_mode": {
    "name": "ipython",
    "version": 3
   },
   "file_extension": ".py",
   "mimetype": "text/x-python",
   "name": "python",
   "nbconvert_exporter": "python",
   "pygments_lexer": "ipython3",
   "version": "3.9.13"
  }
 },
 "nbformat": 4,
 "nbformat_minor": 5
}
